{
 "cells": [
  {
   "cell_type": "code",
   "execution_count": null,
   "metadata": {
    "tags": []
   },
   "outputs": [],
   "source": [
    "import torch\n",
    "import torch.nn.functional as F\n",
    "import numpy as np\n",
    "import matplotlib.pyplot as plt\n",
    "\n",
    "import torch.nn as nn\n",
    "import torch.optim as optim\n",
    "import torchvision\n",
    "from torchvision import datasets, models, transforms\n",
    "from torch.autograd import Variable\n",
    "from torchvision.utils import save_image\n",
    "import time\n",
    "import os"
   ]
  },
  {
   "cell_type": "code",
   "execution_count": null,
   "metadata": {
    "tags": []
   },
   "outputs": [],
   "source": [
    "mnist_train_data = datasets.MNIST('/home/jovyan/MNIST/', train=True, download=True, transform=transforms.ToTensor())\n",
    "mnist_val_data = datasets.MNIST('/home/jovyan/MNIST/', train=False, download=True, transform=transforms.ToTensor())"
   ]
  },
  {
   "cell_type": "code",
   "execution_count": null,
   "metadata": {
    "tags": []
   },
   "outputs": [],
   "source": [
    "# define some hypers\n",
    "BATCH_SIZE = 32\n",
    "LEARNING_RATE = 0.001\n",
    "NUM_EPOCHS = 50\n"
   ]
  },
  {
   "cell_type": "code",
   "execution_count": null,
   "metadata": {
    "tags": []
   },
   "outputs": [],
   "source": [
    "# data loader\n",
    "train_dataloader = torch.utils.data.DataLoader(mnist_train_data,\n",
    "                                              batch_size = BATCH_SIZE,\n",
    "                                              shuffle = True\n",
    "                                              )\n",
    "\n",
    "val_dataloader = torch.utils.data.DataLoader(mnist_val_data,\n",
    "                                              batch_size = BATCH_SIZE,\n",
    "                                              shuffle = False\n",
    "                                              )"
   ]
  },
  {
   "cell_type": "code",
   "execution_count": null,
   "metadata": {
    "tags": []
   },
   "outputs": [],
   "source": [
    "class VAE(nn.Module):\n",
    "    def __init__(self,):\n",
    "        super(VAE, self).__init__()\n",
    "        \n",
    "        # encoder part\n",
    "        self.layer1 = nn.Linear(784, 512)\n",
    "        self.layer2 = nn.Linear(512, 256)\n",
    "        self.encoded_mean = nn.Linear(256, 2)\n",
    "        self.encoded_logvar = nn.Linear(256, 2)\n",
    "        # decoder part\n",
    "        self.decoder1 = nn.Linear(2, 256)\n",
    "        self.decoder2 = nn.Linear(256, 512)\n",
    "        self.decoder3 = nn.Linear(512, 784)\n",
    "        \n",
    "    def encoder(self, x):\n",
    "        h = F.relu(self.layer1(x))\n",
    "        h = F.relu(self.layer2(h))\n",
    "        return self.encoded_mean(h), self.encoded_logvar(h) # mu, log_var\n",
    "    \n",
    "    \n",
    "    def sampling(self, mu, log_var):\n",
    "        std = torch.exp(0.5*log_var)\n",
    "        eps = torch.randn_like(std)\n",
    "        return eps.mul(std).add_(mu) # return z sample\n",
    "        \n",
    "        \n",
    "    def decoder(self, z):\n",
    "        h = F.relu(self.decoder1(z))\n",
    "        h = F.relu(self.decoder2(h))\n",
    "        return F.sigmoid(self.decoder3(h)) \n",
    "    \n",
    "    def forward(self, x):\n",
    "        mu, log_var = self.encoder(x.view(-1, 784))\n",
    "        z = self.sampling(mu, log_var)\n",
    "        return self.decoder(z), mu, log_var\n",
    "    \n",
    "    \n",
    "\n"
   ]
  },
  {
   "cell_type": "code",
   "execution_count": null,
   "metadata": {
    "tags": []
   },
   "outputs": [],
   "source": [
    "# build model\n",
    "vae = VAE()\n",
    "\n",
    "# are we using gpu?\n",
    "if torch.cuda.is_available():\n",
    "    vae.cuda()"
   ]
  },
  {
   "cell_type": "code",
   "execution_count": null,
   "metadata": {
    "tags": []
   },
   "outputs": [],
   "source": [
    "optimizer = optim.Adam(vae.parameters(), lr=LEARNING_RATE)\n"
   ]
  },
  {
   "cell_type": "code",
   "execution_count": null,
   "metadata": {
    "tags": []
   },
   "outputs": [],
   "source": [
    "# return reconstruction error + KL divergence losses\n",
    "def loss_function(recon_x, x, mu, log_var):\n",
    "    BCE = F.binary_cross_entropy(recon_x, x.view(-1, 784), reduction='sum')\n",
    "    KLD = -0.5 * torch.sum(1 + log_var - mu.pow(2) - log_var.exp())\n",
    "    return BCE + KLD"
   ]
  },
  {
   "cell_type": "code",
   "execution_count": null,
   "metadata": {
    "tags": []
   },
   "outputs": [],
   "source": [
    "def train(vae, optimizer):\n",
    "    vae.train()\n",
    "    for batch_idx, (data, _) in enumerate(train_dataloader):\n",
    "        optimizer.zero_grad()\n",
    "        \n",
    "        recon_batch, mu, log_var = vae(data)\n",
    "        loss = loss_function(recon_batch, data, mu, log_var)\n",
    "        \n",
    "        loss.backward()\n",
    "        optimizer.step()\n",
    "        \n"
   ]
  },
  {
   "cell_type": "code",
   "execution_count": null,
   "metadata": {
    "tags": []
   },
   "outputs": [],
   "source": [
    "def plot_synthetic_data(epoch, vae):\n",
    "    with torch.no_grad():\n",
    "        z = torch.randn(64, 2)\n",
    "        sample = vae.decoder(z)\n",
    "\n",
    "        save_image(sample.view(64, 1, 28, 28), './figures/sample_epoch_' + str(epoch) + '.png')"
   ]
  },
  {
   "cell_type": "code",
   "execution_count": null,
   "metadata": {
    "tags": []
   },
   "outputs": [],
   "source": [
    "plot_synthetic_data(-1, vae)\n",
    "for epoch in range(NUM_EPOCHS):\n",
    "    print(\"Epoch: \", epoch)\n",
    "    train(vae, optimizer)\n",
    "    plot_synthetic_data(epoch, vae)\n",
    "    \n",
    "    if epoch % 10 == 0:\n",
    "        state_dict = {'weights': vae.state_dict(),\n",
    "                     'epoch': epoch\n",
    "                     }\n",
    "        torch.save(state_dict, './figures/model_weights.pth')"
   ]
  },
  {
   "cell_type": "code",
   "execution_count": null,
   "metadata": {
    "tags": []
   },
   "outputs": [],
   "source": [
    "def plot_latent(vae, dataloader, num_batches=100):\n",
    "    for i, (x, y) in enumerate(dataloader):\n",
    "        mu, logvar = vae.encoder(x.view(-1, 784))\n",
    "        mu = mu.detach().numpy()\n",
    "        plt.scatter(mu[:, 0], mu[:, 1], c=y, cmap='tab10', alpha=0.5, s=2)\n",
    "        if i > num_batches:\n",
    "            plt.colorbar(alpha=1)\n",
    "            break"
   ]
  },
  {
   "cell_type": "code",
   "execution_count": null,
   "metadata": {
    "tags": []
   },
   "outputs": [],
   "source": [
    "plot_latent(vae, val_dataloader, num_batches=1000)"
   ]
  },
  {
   "cell_type": "code",
   "execution_count": null,
   "metadata": {
    "tags": []
   },
   "outputs": [],
   "source": [
    "# pick an (x,y) to reconstruct\n",
    "z = torch.tensor([-2., -1.])\n",
    "sample = vae.decoder(z)\n",
    "\n",
    "save_image(sample.view(1, 28, 28), './figures/sample_epocasdfdfh_' + str(epoch) + '.png')"
   ]
  },
  {
   "cell_type": "code",
   "execution_count": null,
   "metadata": {
    "tags": []
   },
   "outputs": [],
   "source": [
    "plt.imshow(sample.view(28,28).detach().numpy())"
   ]
  },
  {
   "cell_type": "code",
   "execution_count": null,
   "metadata": {
    "tags": []
   },
   "outputs": [],
   "source": [
    "def plot_reconstructed(vae, y0=(-3.5, 3.5), x0=(-4, 2), n=12):\n",
    "    w = 28\n",
    "    img = np.zeros((n*w, n*w))\n",
    "    for i, y in enumerate(np.linspace(*y0, n)):\n",
    "        for j, x in enumerate(np.linspace(*x0, n)):\n",
    "            z = torch.Tensor([[x, y]])\n",
    "            x_hat = vae.decoder(z)\n",
    "            x_hat = x_hat.reshape(28, 28).detach().numpy()\n",
    "            img[(n-1-i)*w:(n-1-i+1)*w, j*w:(j+1)*w] = x_hat\n",
    "    plt.imshow(img, extent=[*x0, *y0])"
   ]
  },
  {
   "cell_type": "code",
   "execution_count": null,
   "metadata": {
    "tags": []
   },
   "outputs": [],
   "source": [
    "plot_reconstructed(vae, n=12)"
   ]
  },
  {
   "cell_type": "code",
   "execution_count": null,
   "metadata": {
    "tags": []
   },
   "outputs": [],
   "source": [
    "def plot_interpolation(vae, p1, p2, n=20):\n",
    "    \n",
    "    z = torch.stack([p1 + (p2 - p1)*t for t in np.linspace(0, 1, n)])\n",
    "    interpolate_list = vae.decoder(z)\n",
    "    interpolate_list = interpolate_list.detach().numpy()\n",
    "\n",
    "    w = 28\n",
    "    img = np.zeros((w, n*w))\n",
    "    for i, x_hat in enumerate(interpolate_list):\n",
    "        img[:, i*w:(i+1)*w] = x_hat.reshape(28, 28)\n",
    "    plt.imshow(img)\n",
    "    plt.xticks([])\n",
    "    plt.yticks([])"
   ]
  },
  {
   "cell_type": "code",
   "execution_count": null,
   "metadata": {
    "tags": []
   },
   "outputs": [],
   "source": [
    "p1 = torch.tensor([])\n",
    "p2 = torch.tensor([])\n",
    "plot_interpolation(vae, p1, p2, n=20)"
   ]
  },
  {
   "cell_type": "code",
   "execution_count": null,
   "metadata": {},
   "outputs": [],
   "source": []
  }
 ],
 "metadata": {
  "kernelspec": {
   "display_name": "Python 3",
   "language": "python",
   "name": "python3"
  },
  "language_info": {
   "codemirror_mode": {
    "name": "ipython",
    "version": 3
   },
   "file_extension": ".py",
   "mimetype": "text/x-python",
   "name": "python",
   "nbconvert_exporter": "python",
   "pygments_lexer": "ipython3",
   "version": "3.8.12"
  }
 },
 "nbformat": 4,
 "nbformat_minor": 4
}
